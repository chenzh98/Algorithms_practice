{
 "cells": [
  {
   "cell_type": "code",
   "execution_count": 12,
   "metadata": {},
   "outputs": [],
   "source": [
    "import numpy as np\n",
    "import matplotlib.pyplot as plt\n",
    "%matplotlib inline"
   ]
  },
  {
   "cell_type": "code",
   "execution_count": 13,
   "metadata": {},
   "outputs": [],
   "source": [
    "def function(x, y):\n",
    "    return np.exp(np.power(x, 2) + np.power(y-2, 2))\n",
    "\n",
    "def partial_x(x, y):\n",
    "    return function(x, y) * 2 * x\n",
    "\n",
    "def partial_y(x, y):\n",
    "    return function(x, y) * 2 * (y - 2)\n",
    "\n",
    "def GD(learning_rate=0.01):\n",
    "    x, y = (1, 1)\n",
    "    end_partial = 1e-6\n",
    "    loss = []\n",
    "    iteration = []\n",
    "    i = 0\n",
    "    while True:\n",
    "        iteration.append(i)\n",
    "        loss.append(function(x, y) - 1)\n",
    "        if i > 1000:\n",
    "            break\n",
    "        xn = x - partial_x(x, y) * learning_rate\n",
    "        yn = y - partial_y(x, y) * learning_rate\n",
    "        x = xn\n",
    "        y = yn\n",
    "        i += 1\n",
    "    plt.plot(iteration, loss)\n",
    "    plt.xlabel('Iteration')\n",
    "    plt.ylabel('cost')\n",
    "    print(\"取得最小值的点为：({:.4f}, {:.4f})\" .format(x, y))\n",
    "    return x, y"
   ]
  },
  {
   "cell_type": "code",
   "execution_count": 14,
   "metadata": {},
   "outputs": [
    {
     "name": "stdout",
     "output_type": "stream",
     "text": [
      "取得最小值的点为：(0.0000, 2.0000)\n"
     ]
    },
    {
     "data": {
      "text/plain": [
       "(8.273819507469557e-10, 1.9999999991726176)"
      ]
     },
     "execution_count": 14,
     "metadata": {},
     "output_type": "execute_result"
    },
    {
     "data": {
      "image/png": "[encoded data removed]",
      "text/plain": [
       "<Figure size 432x288 with 1 Axes>"
      ]
     },
     "metadata": {
      "needs_background": "light"
     },
     "output_type": "display_data"
    }
   ],
   "source": [
    "GD(learning_rate=0.01)"
   ]
  },
  {
   "cell_type": "code",
   "execution_count": null,
   "metadata": {},
   "outputs": [],
   "source": []
  }
 ],
 "metadata": {
  "kernelspec": {
   "display_name": "Python 3",
   "language": "python",
   "name": "python3"
  },
  "language_info": {
   "codemirror_mode": {
    "name": "ipython",
    "version": 3
   },
   "file_extension": ".py",
   "mimetype": "text/x-python",
   "name": "python",
   "nbconvert_exporter": "python",
   "pygments_lexer": "ipython3",
   "version": "3.7.3"
  }
 },
 "nbformat": 4,
 "nbformat_minor": 2
}
