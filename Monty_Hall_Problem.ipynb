{
 "cells": [
  {
   "cell_type": "code",
   "execution_count": 1,
   "metadata": {},
   "outputs": [],
   "source": [
    "import numpy as np"
   ]
  },
  {
   "cell_type": "code",
   "execution_count": 10,
   "metadata": {},
   "outputs": [
    {
     "name": "stdout",
     "output_type": "stream",
     "text": [
      "If you insist on your original choice, the winning probability is 0.3337\n",
      "If you change your choice, the winning probability is 0.6663\n"
     ]
    }
   ],
   "source": [
    "test_num = 100000\n",
    "change_count = 0\n",
    "notchange_count = 0\n",
    "for i in range(test_num):\n",
    "    err_signal = 0\n",
    "    r = np.random.rand()\n",
    "    if r >= 0 and r < 1/3:\n",
    "        doors = [True, False, False]\n",
    "    elif r >= 1/3 and r < 2/3:\n",
    "        doors = [False, True, False]\n",
    "    elif r >= 2/3 and r <= 1:\n",
    "        doors = [False, False, True]\n",
    "    else:\n",
    "        err_signal = 1\n",
    "    if err_signal == 0:\n",
    "        c = np.random.rand()\n",
    "        if c >= 0 and c < 1/3:\n",
    "            choose = 1\n",
    "        elif c >= 1/3 and c < 2/3:\n",
    "            choose = 2\n",
    "        else:\n",
    "            choose = 3\n",
    "        if doors[choose - 1] == True:\n",
    "            notchange_count += 1\n",
    "        else:\n",
    "            change_count += 1\n",
    "print(\"If you insist on your original choice, the winning probability is %.4f\" %(notchange_count/test_num))\n",
    "print(\"If you change your choice, the winning probability is %.4f\" %(change_count/test_num))"
   ]
  }
 ],
 "metadata": {
  "kernelspec": {
   "display_name": "Python 3",
   "language": "python",
   "name": "python3"
  },
  "language_info": {
   "codemirror_mode": {
    "name": "ipython",
    "version": 3
   },
   "file_extension": ".py",
   "mimetype": "text/x-python",
   "name": "python",
   "nbconvert_exporter": "python",
   "pygments_lexer": "ipython3",
   "version": "3.7.3"
  }
 },
 "nbformat": 4,
 "nbformat_minor": 2
}
